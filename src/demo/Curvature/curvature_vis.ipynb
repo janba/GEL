{
 "cells": [
  {
   "cell_type": "markdown",
   "id": "1a130a08",
   "metadata": {},
   "source": [
    "# Curvature Visualization\n",
    "\n",
    "This notebook demonstrates various curvature computations and visualizations on 3D meshes using PyGEL3D.\n",
    "\n",
    "We'll explore:\n",
    "- Principal curvatures (minimum and maximum)\n",
    "- Gaussian curvature\n",
    "- Mean curvature"
   ]
  },
  {
   "cell_type": "markdown",
   "id": "5d91c7ac",
   "metadata": {},
   "source": [
    "## Import Libraries and Setup"
   ]
  },
  {
   "cell_type": "code",
   "execution_count": 1,
   "id": "439d7ce2",
   "metadata": {},
   "outputs": [
    {
     "data": {
      "application/vnd.jupyter.widget-view+json": {
       "model_id": "3d167d470aee4a90930b2efdb8d40f05",
       "version_major": 2,
       "version_minor": 0
      },
      "text/plain": [
       "FigureWidget({\n",
       "    'data': [{'color': '#dddddd',\n",
       "              'flatshading': False,\n",
       "              'i': array([   0,    5,    7, ..., 7198, 7199, 7199], shape=(14400,)),\n",
       "              'j': array([   1,    3,    5, ..., 7197, 7198,  119], shape=(14400,)),\n",
       "              'k': array([  2,   2,   4, ..., 115, 117,   0], shape=(14400,)),\n",
       "              'type': 'mesh3d',\n",
       "              'uid': '9fd3670a-1a68-4d5f-bf63-f0f6720fcc00',\n",
       "              'x': array([1.5     , 1.497944, 1.495209, ..., 1.473506, 1.487033, 1.495209],\n",
       "                         shape=(7200,)),\n",
       "              'y': array([ 0.      ,  0.      ,  0.052264, ..., -0.154509, -0.103956, -0.052264],\n",
       "                         shape=(7200,)),\n",
       "              'z': array([ 0.      , -0.078504, -0.07836 , ...,  0.077223,  0.077932,  0.07836 ],\n",
       "                         shape=(7200,))},\n",
       "             {'hoverinfo': 'none',\n",
       "              'line': {'color': 'rgb(125,0,0)', 'width': 1},\n",
       "              'mode': 'lines',\n",
       "              'type': 'scatter3d',\n",
       "              'uid': 'fd0a78e6-51ec-4cbf-8c40-8539c38b7789',\n",
       "              'x': array([1.5, 1.497944, None, ..., 1.495209, 1.5, None],\n",
       "                         shape=(64800,), dtype=object),\n",
       "              'y': array([0.0, 0.0, None, ..., -0.052264, 0.0, None], shape=(64800,), dtype=object),\n",
       "              'z': array([0.0, -0.078504, None, ..., 0.07836, 0.0, None],\n",
       "                         shape=(64800,), dtype=object)}],\n",
       "    'layout': {'height': 800, 'scene': {'aspectmode': 'data'}, 'template': '...', 'width': 850}\n",
       "})"
      ]
     },
     "execution_count": 1,
     "metadata": {},
     "output_type": "execute_result"
    }
   ],
   "source": [
    "from pygel3d import hmesh, jupyter_display as jd\n",
    "from numpy import array\n",
    "fn = \"../../../data/Solids/torus.obj\"\n",
    "m = hmesh.load(fn)\n",
    "hmesh.triangulate(m)\n",
    "jd.display(m)"
   ]
  },
  {
   "cell_type": "markdown",
   "id": "760e3f33",
   "metadata": {},
   "source": [
    "## Compute Principal Curvatures\n",
    "\n",
    "Principal curvatures are the maximum and minimum curvatures at each point on the surface. We compute the principal curvatures by fitting a second order surface to the vertices in the 1-ring of a given vertex."
   ]
  },
  {
   "cell_type": "code",
   "execution_count": 2,
   "id": "2d2e9383",
   "metadata": {},
   "outputs": [
    {
     "name": "stdout",
     "output_type": "stream",
     "text": [
      "min curvature range:  -2.7601042125419513 0.6677617519511577\n",
      "max curvature range:  1.9814656183525412 2.1263524538089564\n"
     ]
    }
   ],
   "source": [
    "pc = [ m.principal_curvatures(v) for v in m.vertices() ]\n",
    "kmin = array([ pc[v][0] for v in m.vertices()])\n",
    "kmax = array([ pc[v][1] for v in m.vertices()])\n",
    "print(\"min curvature range: \", kmin.min(), kmin.max())\n",
    "print(\"max curvature range: \", kmax.min(), kmax.max())"
   ]
  },
  {
   "cell_type": "markdown",
   "id": "56f21cfd",
   "metadata": {},
   "source": [
    "## Visualize Principal Curvatures"
   ]
  },
  {
   "cell_type": "code",
   "execution_count": 3,
   "id": "8c6ce997",
   "metadata": {},
   "outputs": [
    {
     "name": "stdout",
     "output_type": "stream",
     "text": [
      "Displaying minimum principal curvature\n"
     ]
    },
    {
     "data": {
      "application/vnd.jupyter.widget-view+json": {
       "model_id": "0d9efa8bad0742c18140386b996eb864",
       "version_major": 2,
       "version_minor": 0
      },
      "text/plain": [
       "FigureWidget({\n",
       "    'data': [{'color': '#dddddd',\n",
       "              'contour': {'color': '#ff0000', 'show': True},\n",
       "              'flatshading': False,\n",
       "              'i': array([   0,    5,    7, ..., 7198, 7199, 7199], shape=(14400,)),\n",
       "              'intensity': array([0.66773781, 0.66744616, 0.66503432, ..., 0.64513712, 0.65739044,\n",
       "                                  0.66503468], shape=(7200,)),\n",
       "              'j': array([   1,    3,    5, ..., 7197, 7198,  119], shape=(14400,)),\n",
       "              'k': array([  2,   2,   4, ..., 115, 117,   0], shape=(14400,)),\n",
       "              'type': 'mesh3d',\n",
       "              'uid': '3dc9b9e6-dc12-43a9-babb-cdc277db58c4',\n",
       "              'x': array([1.5     , 1.497944, 1.495209, ..., 1.473506, 1.487033, 1.495209],\n",
       "                         shape=(7200,)),\n",
       "              'y': array([ 0.      ,  0.      ,  0.052264, ..., -0.154509, -0.103956, -0.052264],\n",
       "                         shape=(7200,)),\n",
       "              'z': array([ 0.      , -0.078504, -0.07836 , ...,  0.077223,  0.077932,  0.07836 ],\n",
       "                         shape=(7200,))},\n",
       "             {'hoverinfo': 'none',\n",
       "              'line': {'color': 'rgb(125,0,0)', 'width': 1},\n",
       "              'mode': 'lines',\n",
       "              'type': 'scatter3d',\n",
       "              'uid': '31d848ee-d86b-4a24-87fc-b35d34571f9a',\n",
       "              'x': array([1.5, 1.497944, None, ..., 1.495209, 1.5, None],\n",
       "                         shape=(64800,), dtype=object),\n",
       "              'y': array([0.0, 0.0, None, ..., -0.052264, 0.0, None], shape=(64800,), dtype=object),\n",
       "              'z': array([0.0, -0.078504, None, ..., 0.07836, 0.0, None],\n",
       "                         shape=(64800,), dtype=object)}],\n",
       "    'layout': {'height': 800, 'scene': {'aspectmode': 'data'}, 'template': '...', 'width': 850}\n",
       "})"
      ]
     },
     "execution_count": 3,
     "metadata": {},
     "output_type": "execute_result"
    }
   ],
   "source": [
    "print(\"Displaying minimum principal curvature\")\n",
    "jd.display(m, data=kmin)"
   ]
  },
  {
   "cell_type": "code",
   "execution_count": 4,
   "id": "9d72ce66",
   "metadata": {},
   "outputs": [
    {
     "name": "stdout",
     "output_type": "stream",
     "text": [
      "Displaying maximum principal curvature\n"
     ]
    },
    {
     "data": {
      "application/vnd.jupyter.widget-view+json": {
       "model_id": "a847afd3111342efb4ae1d379023f378",
       "version_major": 2,
       "version_minor": 0
      },
      "text/plain": [
       "FigureWidget({\n",
       "    'data': [{'color': '#dddddd',\n",
       "              'contour': {'color': '#ff0000', 'show': True},\n",
       "              'flatshading': False,\n",
       "              'i': array([   0,    5,    7, ..., 7198, 7199, 7199], shape=(14400,)),\n",
       "              'intensity': array([2.0062812 , 2.00606388, 2.00627643, ..., 2.00484536, 2.00490891,\n",
       "                                  2.00627535], shape=(7200,)),\n",
       "              'j': array([   1,    3,    5, ..., 7197, 7198,  119], shape=(14400,)),\n",
       "              'k': array([  2,   2,   4, ..., 115, 117,   0], shape=(14400,)),\n",
       "              'type': 'mesh3d',\n",
       "              'uid': 'e42ba503-220b-48a9-ac48-b567bce31680',\n",
       "              'x': array([1.5     , 1.497944, 1.495209, ..., 1.473506, 1.487033, 1.495209],\n",
       "                         shape=(7200,)),\n",
       "              'y': array([ 0.      ,  0.      ,  0.052264, ..., -0.154509, -0.103956, -0.052264],\n",
       "                         shape=(7200,)),\n",
       "              'z': array([ 0.      , -0.078504, -0.07836 , ...,  0.077223,  0.077932,  0.07836 ],\n",
       "                         shape=(7200,))},\n",
       "             {'hoverinfo': 'none',\n",
       "              'line': {'color': 'rgb(125,0,0)', 'width': 1},\n",
       "              'mode': 'lines',\n",
       "              'type': 'scatter3d',\n",
       "              'uid': '35ed3c0d-a530-48a7-85e9-8bfd4fa008c9',\n",
       "              'x': array([1.5, 1.497944, None, ..., 1.495209, 1.5, None],\n",
       "                         shape=(64800,), dtype=object),\n",
       "              'y': array([0.0, 0.0, None, ..., -0.052264, 0.0, None], shape=(64800,), dtype=object),\n",
       "              'z': array([0.0, -0.078504, None, ..., 0.07836, 0.0, None],\n",
       "                         shape=(64800,), dtype=object)}],\n",
       "    'layout': {'height': 800, 'scene': {'aspectmode': 'data'}, 'template': '...', 'width': 850}\n",
       "})"
      ]
     },
     "execution_count": 4,
     "metadata": {},
     "output_type": "execute_result"
    }
   ],
   "source": [
    "print(\"Displaying maximum principal curvature\")\n",
    "jd.display(m, data=kmax)"
   ]
  },
  {
   "cell_type": "markdown",
   "id": "a271f747",
   "metadata": {},
   "source": [
    "## Gaussian Curvature\n",
    "\n",
    "Gaussian curvature is the product of the principal curvatures. First we compute it via the angle defect. This method can also be seen as using the Gauss-Bonnet theorem to compute the Gaussian curvature."
   ]
  },
  {
   "cell_type": "code",
   "execution_count": 5,
   "id": "63e13854",
   "metadata": {},
   "outputs": [
    {
     "name": "stdout",
     "output_type": "stream",
     "text": [
      "Gaussian curvature range:  -4.004287021490172 1.3360668216038223\n",
      "Displaying Gaussian curvature\n"
     ]
    },
    {
     "data": {
      "application/vnd.jupyter.widget-view+json": {
       "model_id": "259384e4545b4053bc6fa16418346dac",
       "version_major": 2,
       "version_minor": 0
      },
      "text/plain": [
       "FigureWidget({\n",
       "    'data': [{'color': '#dddddd',\n",
       "              'contour': {'color': '#ff0000', 'show': True},\n",
       "              'flatshading': False,\n",
       "              'i': array([   0,    5,    7, ..., 7198, 7199, 7199], shape=(14400,)),\n",
       "              'intensity': array([1.33412546, 1.33426487, 1.3296743 , ..., 1.29049232, 1.31504232,\n",
       "                                  1.3296743 ], shape=(7200,)),\n",
       "              'j': array([   1,    3,    5, ..., 7197, 7198,  119], shape=(14400,)),\n",
       "              'k': array([  2,   2,   4, ..., 115, 117,   0], shape=(14400,)),\n",
       "              'type': 'mesh3d',\n",
       "              'uid': '20a4baa1-a813-4219-ae30-3858aa40e0d4',\n",
       "              'x': array([1.5     , 1.497944, 1.495209, ..., 1.473506, 1.487033, 1.495209],\n",
       "                         shape=(7200,)),\n",
       "              'y': array([ 0.      ,  0.      ,  0.052264, ..., -0.154509, -0.103956, -0.052264],\n",
       "                         shape=(7200,)),\n",
       "              'z': array([ 0.      , -0.078504, -0.07836 , ...,  0.077223,  0.077932,  0.07836 ],\n",
       "                         shape=(7200,))},\n",
       "             {'hoverinfo': 'none',\n",
       "              'line': {'color': 'rgb(125,0,0)', 'width': 1},\n",
       "              'mode': 'lines',\n",
       "              'type': 'scatter3d',\n",
       "              'uid': '71c778e8-672f-4988-b28c-405b10366b22',\n",
       "              'x': array([1.5, 1.497944, None, ..., 1.495209, 1.5, None],\n",
       "                         shape=(64800,), dtype=object),\n",
       "              'y': array([0.0, 0.0, None, ..., -0.052264, 0.0, None], shape=(64800,), dtype=object),\n",
       "              'z': array([0.0, -0.078504, None, ..., 0.07836, 0.0, None],\n",
       "                         shape=(64800,), dtype=object)}],\n",
       "    'layout': {'height': 800, 'scene': {'aspectmode': 'data'}, 'template': '...', 'width': 850}\n",
       "})"
      ]
     },
     "execution_count": 5,
     "metadata": {},
     "output_type": "execute_result"
    }
   ],
   "source": [
    "K = array([ m.gaussian_curvature(v) for v in m.vertices()])\n",
    "print(\"Gaussian curvature range: \", K.min(), K.max())\n",
    "print(\"Displaying Gaussian curvature\")\n",
    "jd.display(m, data=K)"
   ]
  },
  {
   "cell_type": "code",
   "execution_count": 6,
   "id": "ef2424de",
   "metadata": {},
   "outputs": [
    {
     "name": "stdout",
     "output_type": "stream",
     "text": [
      "Gaussian curvature range (product of principal curvatures):  -5.574632286577524 1.339862637725947\n",
      "Displaying Gaussian curvature (product of principal curvatures)\n"
     ]
    },
    {
     "data": {
      "application/vnd.jupyter.widget-view+json": {
       "model_id": "bad3201c53ee4848af437b1fc10fa498",
       "version_major": 2,
       "version_minor": 0
      },
      "text/plain": [
       "FigureWidget({\n",
       "    'data': [{'color': '#dddddd',\n",
       "              'contour': {'color': '#ff0000', 'show': True},\n",
       "              'flatshading': False,\n",
       "              'i': array([   0,    5,    7, ..., 7198, 7199, 7199], shape=(14400,)),\n",
       "              'intensity': array([1.33966982, 1.33893964, 1.33424268, ..., 1.29340017, 1.31800796,\n",
       "                                  1.33424267], shape=(7200,)),\n",
       "              'j': array([   1,    3,    5, ..., 7197, 7198,  119], shape=(14400,)),\n",
       "              'k': array([  2,   2,   4, ..., 115, 117,   0], shape=(14400,)),\n",
       "              'type': 'mesh3d',\n",
       "              'uid': '53b6eecb-c980-4453-9a3e-b38f367aa5ae',\n",
       "              'x': array([1.5     , 1.497944, 1.495209, ..., 1.473506, 1.487033, 1.495209],\n",
       "                         shape=(7200,)),\n",
       "              'y': array([ 0.      ,  0.      ,  0.052264, ..., -0.154509, -0.103956, -0.052264],\n",
       "                         shape=(7200,)),\n",
       "              'z': array([ 0.      , -0.078504, -0.07836 , ...,  0.077223,  0.077932,  0.07836 ],\n",
       "                         shape=(7200,))},\n",
       "             {'hoverinfo': 'none',\n",
       "              'line': {'color': 'rgb(125,0,0)', 'width': 1},\n",
       "              'mode': 'lines',\n",
       "              'type': 'scatter3d',\n",
       "              'uid': '21c843fb-23e2-43ef-a8f9-5f147f753922',\n",
       "              'x': array([1.5, 1.497944, None, ..., 1.495209, 1.5, None],\n",
       "                         shape=(64800,), dtype=object),\n",
       "              'y': array([0.0, 0.0, None, ..., -0.052264, 0.0, None], shape=(64800,), dtype=object),\n",
       "              'z': array([0.0, -0.078504, None, ..., 0.07836, 0.0, None],\n",
       "                         shape=(64800,), dtype=object)}],\n",
       "    'layout': {'height': 800, 'scene': {'aspectmode': 'data'}, 'template': '...', 'width': 850}\n",
       "})"
      ]
     },
     "execution_count": 6,
     "metadata": {},
     "output_type": "execute_result"
    }
   ],
   "source": [
    "K2 = kmin * kmax\n",
    "print(\"Gaussian curvature range (product of principal curvatures): \", K2.min(), K2.max())\n",
    "print(\"Displaying Gaussian curvature (product of principal curvatures)\")\n",
    "jd.display(m, data=K2)"
   ]
  },
  {
   "cell_type": "markdown",
   "id": "3a87137f",
   "metadata": {},
   "source": [
    "## Mean Curvature\n",
    "\n",
    "Mean curvature is the average of the principal curvatures. Here we compute it using the mean curvature normal."
   ]
  },
  {
   "cell_type": "code",
   "execution_count": 7,
   "id": "66099173",
   "metadata": {},
   "outputs": [
    {
     "name": "stdout",
     "output_type": "stream",
     "text": [
      "Mean curvature range:  0.0008154560755776491 1.334088270344455\n",
      "Displaying Mean curvature\n"
     ]
    },
    {
     "data": {
      "application/vnd.jupyter.widget-view+json": {
       "model_id": "f60673d31c9a4651846cb00c2a47a9d2",
       "version_major": 2,
       "version_minor": 0
      },
      "text/plain": [
       "FigureWidget({\n",
       "    'data': [{'color': '#dddddd',\n",
       "              'contour': {'color': '#ff0000', 'show': True},\n",
       "              'flatshading': False,\n",
       "              'i': array([   0,    5,    7, ..., 7198, 7199, 7199], shape=(14400,)),\n",
       "              'intensity': array([1.33238524, 1.3328864 , 1.33182874, ..., 1.32214892, 1.32815879,\n",
       "                                  1.33182874], shape=(7200,)),\n",
       "              'j': array([   1,    3,    5, ..., 7197, 7198,  119], shape=(14400,)),\n",
       "              'k': array([  2,   2,   4, ..., 115, 117,   0], shape=(14400,)),\n",
       "              'type': 'mesh3d',\n",
       "              'uid': 'e4de25e1-5f89-4afa-abe3-dbf9f148e9f2',\n",
       "              'x': array([1.5     , 1.497944, 1.495209, ..., 1.473506, 1.487033, 1.495209],\n",
       "                         shape=(7200,)),\n",
       "              'y': array([ 0.      ,  0.      ,  0.052264, ..., -0.154509, -0.103956, -0.052264],\n",
       "                         shape=(7200,)),\n",
       "              'z': array([ 0.      , -0.078504, -0.07836 , ...,  0.077223,  0.077932,  0.07836 ],\n",
       "                         shape=(7200,))},\n",
       "             {'hoverinfo': 'none',\n",
       "              'line': {'color': 'rgb(125,0,0)', 'width': 1},\n",
       "              'mode': 'lines',\n",
       "              'type': 'scatter3d',\n",
       "              'uid': '963242f0-f57e-4323-afb1-62ba0b6e69b5',\n",
       "              'x': array([1.5, 1.497944, None, ..., 1.495209, 1.5, None],\n",
       "                         shape=(64800,), dtype=object),\n",
       "              'y': array([0.0, 0.0, None, ..., -0.052264, 0.0, None], shape=(64800,), dtype=object),\n",
       "              'z': array([0.0, -0.078504, None, ..., 0.07836, 0.0, None],\n",
       "                         shape=(64800,), dtype=object)}],\n",
       "    'layout': {'height': 800, 'scene': {'aspectmode': 'data'}, 'template': '...', 'width': 850}\n",
       "})"
      ]
     },
     "execution_count": 7,
     "metadata": {},
     "output_type": "execute_result"
    }
   ],
   "source": [
    "H = array([ m.mean_curvature(v) for v in m.vertices() ])\n",
    "print(\"Mean curvature range: \", H.min(), H.max())\n",
    "print(\"Displaying Mean curvature\")\n",
    "jd.display(m, data=H)"
   ]
  },
  {
   "cell_type": "code",
   "execution_count": 8,
   "id": "0f0f00da",
   "metadata": {},
   "outputs": [
    {
     "name": "stdout",
     "output_type": "stream",
     "text": [
      "Mean curvature range (average of principal curvatures):  -0.37019308333149414 1.3376183411487343\n",
      "Displaying Mean curvature (average of principal curvatures)\n"
     ]
    },
    {
     "data": {
      "application/vnd.jupyter.widget-view+json": {
       "model_id": "fb13e526d7594e8d8a0a47c97ec705dc",
       "version_major": 2,
       "version_minor": 0
      },
      "text/plain": [
       "FigureWidget({\n",
       "    'data': [{'color': '#dddddd',\n",
       "              'contour': {'color': '#ff0000', 'show': True},\n",
       "              'flatshading': False,\n",
       "              'i': array([   0,    5,    7, ..., 7198, 7199, 7199], shape=(14400,)),\n",
       "              'intensity': array([1.33700951, 1.33675502, 1.33565538, ..., 1.32499124, 1.33114968,\n",
       "                                  1.33565501], shape=(7200,)),\n",
       "              'j': array([   1,    3,    5, ..., 7197, 7198,  119], shape=(14400,)),\n",
       "              'k': array([  2,   2,   4, ..., 115, 117,   0], shape=(14400,)),\n",
       "              'type': 'mesh3d',\n",
       "              'uid': '605f0687-150c-4215-a20a-de3b5867095d',\n",
       "              'x': array([1.5     , 1.497944, 1.495209, ..., 1.473506, 1.487033, 1.495209],\n",
       "                         shape=(7200,)),\n",
       "              'y': array([ 0.      ,  0.      ,  0.052264, ..., -0.154509, -0.103956, -0.052264],\n",
       "                         shape=(7200,)),\n",
       "              'z': array([ 0.      , -0.078504, -0.07836 , ...,  0.077223,  0.077932,  0.07836 ],\n",
       "                         shape=(7200,))},\n",
       "             {'hoverinfo': 'none',\n",
       "              'line': {'color': 'rgb(125,0,0)', 'width': 1},\n",
       "              'mode': 'lines',\n",
       "              'type': 'scatter3d',\n",
       "              'uid': '26279fae-c960-4d32-a6a7-49c48bdaf19b',\n",
       "              'x': array([1.5, 1.497944, None, ..., 1.495209, 1.5, None],\n",
       "                         shape=(64800,), dtype=object),\n",
       "              'y': array([0.0, 0.0, None, ..., -0.052264, 0.0, None], shape=(64800,), dtype=object),\n",
       "              'z': array([0.0, -0.078504, None, ..., 0.07836, 0.0, None],\n",
       "                         shape=(64800,), dtype=object)}],\n",
       "    'layout': {'height': 800, 'scene': {'aspectmode': 'data'}, 'template': '...', 'width': 850}\n",
       "})"
      ]
     },
     "execution_count": 8,
     "metadata": {},
     "output_type": "execute_result"
    }
   ],
   "source": [
    "H2 = (kmin + kmax) / 2\n",
    "print(\"Mean curvature range (average of principal curvatures): \", H2.min(), H2.max())\n",
    "print(\"Displaying Mean curvature (average of principal curvatures)\")\n",
    "jd.display(m, data=H2)"
   ]
  }
 ],
 "metadata": {
  "kernelspec": {
   "display_name": "Python 3",
   "language": "python",
   "name": "python3"
  },
  "language_info": {
   "codemirror_mode": {
    "name": "ipython",
    "version": 3
   },
   "file_extension": ".py",
   "mimetype": "text/x-python",
   "name": "python",
   "nbconvert_exporter": "python",
   "pygments_lexer": "ipython3",
   "version": "3.13.5"
  }
 },
 "nbformat": 4,
 "nbformat_minor": 5
}
