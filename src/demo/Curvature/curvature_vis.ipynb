{
 "cells": [
  {
   "cell_type": "markdown",
   "id": "1a130a08",
   "metadata": {},
   "source": [
    "# Curvature Visualization\n",
    "\n",
    "This notebook demonstrates various curvature computations and visualizations on 3D meshes using PyGEL3D.\n",
    "\n",
    "We'll explore:\n",
    "- Principal curvatures (minimum and maximum)\n",
    "- Gaussian curvature\n",
    "- Mean curvature"
   ]
  },
  {
   "cell_type": "markdown",
   "id": "5d91c7ac",
   "metadata": {},
   "source": [
    "## Import Libraries and Setup"
   ]
  },
  {
   "cell_type": "code",
   "execution_count": 1,
   "id": "439d7ce2",
   "metadata": {},
   "outputs": [
    {
     "data": {
      "application/vnd.jupyter.widget-view+json": {
       "model_id": "bd980047834e47e88d163911c49bbab4",
       "version_major": 2,
       "version_minor": 0
      },
      "text/plain": [
       "FigureWidget({\n",
       "    'data': [{'color': '#dddddd',\n",
       "              'flatshading': False,\n",
       "              'i': array([   0,    5,    7, ..., 7198, 7199, 7199], shape=(14400,)),\n",
       "              'j': array([   1,    3,    5, ..., 7197, 7198,  119], shape=(14400,)),\n",
       "              'k': array([  2,   2,   4, ..., 115, 117,   0], shape=(14400,)),\n",
       "              'type': 'mesh3d',\n",
       "              'uid': '550696d9-bad4-4bbd-8d8a-f1b9e6796f35',\n",
       "              'x': array([1.5     , 1.497944, 1.495209, ..., 1.473506, 1.487033, 1.495209],\n",
       "                         shape=(7200,)),\n",
       "              'y': array([ 0.      ,  0.      ,  0.052264, ..., -0.154509, -0.103956, -0.052264],\n",
       "                         shape=(7200,)),\n",
       "              'z': array([ 0.      , -0.078504, -0.07836 , ...,  0.077223,  0.077932,  0.07836 ],\n",
       "                         shape=(7200,))},\n",
       "             {'hoverinfo': 'none',\n",
       "              'line': {'color': 'rgb(125,0,0)', 'width': 1},\n",
       "              'mode': 'lines',\n",
       "              'type': 'scatter3d',\n",
       "              'uid': '330ddbd7-2b68-437f-984f-fd231c5f3351',\n",
       "              'x': array([1.5, 1.497944, None, ..., 1.495209, 1.5, None],\n",
       "                         shape=(64800,), dtype=object),\n",
       "              'y': array([0.0, 0.0, None, ..., -0.052264, 0.0, None], shape=(64800,), dtype=object),\n",
       "              'z': array([0.0, -0.078504, None, ..., 0.07836, 0.0, None],\n",
       "                         shape=(64800,), dtype=object)}],\n",
       "    'layout': {'height': 800, 'scene': {'aspectmode': 'data'}, 'template': '...', 'width': 850}\n",
       "})"
      ]
     },
     "execution_count": 1,
     "metadata": {},
     "output_type": "execute_result"
    }
   ],
   "source": [
    "from pygel3d import hmesh, jupyter_display as jd\n",
    "from numpy import array\n",
    "fn = \"../../../data/Solids/torus.obj\"\n",
    "m = hmesh.load(fn)\n",
    "hmesh.triangulate(m)\n",
    "jd.display(m)"
   ]
  },
  {
   "cell_type": "markdown",
   "id": "760e3f33",
   "metadata": {},
   "source": [
    "## Compute Principal Curvatures\n",
    "\n",
    "Principal curvatures are the maximum and minimum curvatures at each point on the surface. We compute the principal curvatures by fitting a second order surface to the vertices in the 1-ring of a given vertex."
   ]
  },
  {
   "cell_type": "code",
   "execution_count": 2,
   "id": "2d2e9383",
   "metadata": {},
   "outputs": [
    {
     "name": "stdout",
     "output_type": "stream",
     "text": [
      "min curvature range:  -2.7601042125419513 0.6677617519511577\n",
      "max curvature range:  1.9814656183525412 2.1263524538089564\n"
     ]
    }
   ],
   "source": [
    "pc = [ m.principal_curvatures(v) for v in m.vertices() ]\n",
    "kmin = array([ pc[v][0] for v in m.vertices()])\n",
    "kmax = array([ pc[v][1] for v in m.vertices()])\n",
    "print(\"min curvature range: \", kmin.min(), kmin.max())\n",
    "print(\"max curvature range: \", kmax.min(), kmax.max())"
   ]
  },
  {
   "cell_type": "markdown",
   "id": "56f21cfd",
   "metadata": {},
   "source": [
    "## Visualize Principal Curvatures"
   ]
  },
  {
   "cell_type": "code",
   "execution_count": 3,
   "id": "8c6ce997",
   "metadata": {},
   "outputs": [
    {
     "name": "stdout",
     "output_type": "stream",
     "text": [
      "Displaying minimum principal curvature\n"
     ]
    },
    {
     "data": {
      "application/vnd.jupyter.widget-view+json": {
       "model_id": "3aebb80991aa4287b78e20f9c411dd44",
       "version_major": 2,
       "version_minor": 0
      },
      "text/plain": [
       "FigureWidget({\n",
       "    'data': [{'color': '#dddddd',\n",
       "              'contour': {'color': '#ff0000', 'show': True},\n",
       "              'flatshading': False,\n",
       "              'i': array([   0,    5,    7, ..., 7198, 7199, 7199], shape=(14400,)),\n",
       "              'intensity': array([0.66773781, 0.66744616, 0.66503432, ..., 0.64513712, 0.65739044,\n",
       "                                  0.66503468], shape=(7200,)),\n",
       "              'j': array([   1,    3,    5, ..., 7197, 7198,  119], shape=(14400,)),\n",
       "              'k': array([  2,   2,   4, ..., 115, 117,   0], shape=(14400,)),\n",
       "              'type': 'mesh3d',\n",
       "              'uid': '56571ef4-b93a-443d-a2b1-e21dd82ffb87',\n",
       "              'x': array([1.5     , 1.497944, 1.495209, ..., 1.473506, 1.487033, 1.495209],\n",
       "                         shape=(7200,)),\n",
       "              'y': array([ 0.      ,  0.      ,  0.052264, ..., -0.154509, -0.103956, -0.052264],\n",
       "                         shape=(7200,)),\n",
       "              'z': array([ 0.      , -0.078504, -0.07836 , ...,  0.077223,  0.077932,  0.07836 ],\n",
       "                         shape=(7200,))},\n",
       "             {'hoverinfo': 'none',\n",
       "              'line': {'color': 'rgb(125,0,0)', 'width': 1},\n",
       "              'mode': 'lines',\n",
       "              'type': 'scatter3d',\n",
       "              'uid': '46cd9de9-98ae-46b1-a007-d92e742b8911',\n",
       "              'x': array([1.5, 1.497944, None, ..., 1.495209, 1.5, None],\n",
       "                         shape=(64800,), dtype=object),\n",
       "              'y': array([0.0, 0.0, None, ..., -0.052264, 0.0, None], shape=(64800,), dtype=object),\n",
       "              'z': array([0.0, -0.078504, None, ..., 0.07836, 0.0, None],\n",
       "                         shape=(64800,), dtype=object)}],\n",
       "    'layout': {'height': 800, 'scene': {'aspectmode': 'data'}, 'template': '...', 'width': 850}\n",
       "})"
      ]
     },
     "execution_count": 3,
     "metadata": {},
     "output_type": "execute_result"
    }
   ],
   "source": [
    "print(\"Displaying minimum principal curvature\")\n",
    "jd.display(m, data=kmin)"
   ]
  },
  {
   "cell_type": "code",
   "execution_count": 4,
   "id": "9d72ce66",
   "metadata": {},
   "outputs": [
    {
     "name": "stdout",
     "output_type": "stream",
     "text": [
      "Displaying maximum principal curvature\n"
     ]
    },
    {
     "data": {
      "application/vnd.jupyter.widget-view+json": {
       "model_id": "b21ec84c1db34715be2a7498e0f730ec",
       "version_major": 2,
       "version_minor": 0
      },
      "text/plain": [
       "FigureWidget({\n",
       "    'data': [{'color': '#dddddd',\n",
       "              'contour': {'color': '#ff0000', 'show': True},\n",
       "              'flatshading': False,\n",
       "              'i': array([   0,    5,    7, ..., 7198, 7199, 7199], shape=(14400,)),\n",
       "              'intensity': array([2.0062812 , 2.00606388, 2.00627643, ..., 2.00484536, 2.00490891,\n",
       "                                  2.00627535], shape=(7200,)),\n",
       "              'j': array([   1,    3,    5, ..., 7197, 7198,  119], shape=(14400,)),\n",
       "              'k': array([  2,   2,   4, ..., 115, 117,   0], shape=(14400,)),\n",
       "              'type': 'mesh3d',\n",
       "              'uid': '801c4305-8c5a-4653-a42a-b563e47a4480',\n",
       "              'x': array([1.5     , 1.497944, 1.495209, ..., 1.473506, 1.487033, 1.495209],\n",
       "                         shape=(7200,)),\n",
       "              'y': array([ 0.      ,  0.      ,  0.052264, ..., -0.154509, -0.103956, -0.052264],\n",
       "                         shape=(7200,)),\n",
       "              'z': array([ 0.      , -0.078504, -0.07836 , ...,  0.077223,  0.077932,  0.07836 ],\n",
       "                         shape=(7200,))},\n",
       "             {'hoverinfo': 'none',\n",
       "              'line': {'color': 'rgb(125,0,0)', 'width': 1},\n",
       "              'mode': 'lines',\n",
       "              'type': 'scatter3d',\n",
       "              'uid': '8e938887-ea89-498c-b162-c564a54db7ca',\n",
       "              'x': array([1.5, 1.497944, None, ..., 1.495209, 1.5, None],\n",
       "                         shape=(64800,), dtype=object),\n",
       "              'y': array([0.0, 0.0, None, ..., -0.052264, 0.0, None], shape=(64800,), dtype=object),\n",
       "              'z': array([0.0, -0.078504, None, ..., 0.07836, 0.0, None],\n",
       "                         shape=(64800,), dtype=object)}],\n",
       "    'layout': {'height': 800, 'scene': {'aspectmode': 'data'}, 'template': '...', 'width': 850}\n",
       "})"
      ]
     },
     "execution_count": 4,
     "metadata": {},
     "output_type": "execute_result"
    }
   ],
   "source": [
    "print(\"Displaying maximum principal curvature\")\n",
    "jd.display(m, data=kmax)"
   ]
  },
  {
   "cell_type": "markdown",
   "id": "a271f747",
   "metadata": {},
   "source": [
    "## Gaussian Curvature\n",
    "\n",
    "Gaussian curvature is the product of the principal curvatures. First we compute it via the angle defect. This method can also be seen as using the Gauss-Bonnet theorem to compute the Gaussian curvature."
   ]
  },
  {
   "cell_type": "code",
   "execution_count": 5,
   "id": "63e13854",
   "metadata": {},
   "outputs": [
    {
     "name": "stdout",
     "output_type": "stream",
     "text": [
      "Gaussian curvature range:  -4.004287021490172 1.3360668216038223\n",
      "Displaying Gaussian curvature\n"
     ]
    },
    {
     "data": {
      "application/vnd.jupyter.widget-view+json": {
       "model_id": "3f2b362960464c599207424fa010e6c9",
       "version_major": 2,
       "version_minor": 0
      },
      "text/plain": [
       "FigureWidget({\n",
       "    'data': [{'color': '#dddddd',\n",
       "              'contour': {'color': '#ff0000', 'show': True},\n",
       "              'flatshading': False,\n",
       "              'i': array([   0,    5,    7, ..., 7198, 7199, 7199], shape=(14400,)),\n",
       "              'intensity': array([1.33412546, 1.33426487, 1.3296743 , ..., 1.29049232, 1.31504232,\n",
       "                                  1.3296743 ], shape=(7200,)),\n",
       "              'j': array([   1,    3,    5, ..., 7197, 7198,  119], shape=(14400,)),\n",
       "              'k': array([  2,   2,   4, ..., 115, 117,   0], shape=(14400,)),\n",
       "              'type': 'mesh3d',\n",
       "              'uid': '29dedce6-48a1-4e0d-b5b8-9eb2e189b294',\n",
       "              'x': array([1.5     , 1.497944, 1.495209, ..., 1.473506, 1.487033, 1.495209],\n",
       "                         shape=(7200,)),\n",
       "              'y': array([ 0.      ,  0.      ,  0.052264, ..., -0.154509, -0.103956, -0.052264],\n",
       "                         shape=(7200,)),\n",
       "              'z': array([ 0.      , -0.078504, -0.07836 , ...,  0.077223,  0.077932,  0.07836 ],\n",
       "                         shape=(7200,))},\n",
       "             {'hoverinfo': 'none',\n",
       "              'line': {'color': 'rgb(125,0,0)', 'width': 1},\n",
       "              'mode': 'lines',\n",
       "              'type': 'scatter3d',\n",
       "              'uid': 'fe54359c-8479-4ebe-a004-db46770f691a',\n",
       "              'x': array([1.5, 1.497944, None, ..., 1.495209, 1.5, None],\n",
       "                         shape=(64800,), dtype=object),\n",
       "              'y': array([0.0, 0.0, None, ..., -0.052264, 0.0, None], shape=(64800,), dtype=object),\n",
       "              'z': array([0.0, -0.078504, None, ..., 0.07836, 0.0, None],\n",
       "                         shape=(64800,), dtype=object)}],\n",
       "    'layout': {'height': 800, 'scene': {'aspectmode': 'data'}, 'template': '...', 'width': 850}\n",
       "})"
      ]
     },
     "execution_count": 5,
     "metadata": {},
     "output_type": "execute_result"
    }
   ],
   "source": [
    "K = array([ m.gaussian_curvature(v) for v in m.vertices()])\n",
    "print(\"Gaussian curvature range: \", K.min(), K.max())\n",
    "print(\"Displaying Gaussian curvature\")\n",
    "jd.display(m, data=K)"
   ]
  },
  {
   "cell_type": "code",
   "execution_count": 6,
   "id": "ef2424de",
   "metadata": {},
   "outputs": [
    {
     "name": "stdout",
     "output_type": "stream",
     "text": [
      "Gaussian curvature range (product of principal curvatures):  -5.574632286577524 1.339862637725947\n",
      "Displaying Gaussian curvature (product of principal curvatures)\n"
     ]
    },
    {
     "data": {
      "application/vnd.jupyter.widget-view+json": {
       "model_id": "f0159663b2da4a508d9ac7e9596eec00",
       "version_major": 2,
       "version_minor": 0
      },
      "text/plain": [
       "FigureWidget({\n",
       "    'data': [{'color': '#dddddd',\n",
       "              'contour': {'color': '#ff0000', 'show': True},\n",
       "              'flatshading': False,\n",
       "              'i': array([   0,    5,    7, ..., 7198, 7199, 7199], shape=(14400,)),\n",
       "              'intensity': array([1.33966982, 1.33893964, 1.33424268, ..., 1.29340017, 1.31800796,\n",
       "                                  1.33424267], shape=(7200,)),\n",
       "              'j': array([   1,    3,    5, ..., 7197, 7198,  119], shape=(14400,)),\n",
       "              'k': array([  2,   2,   4, ..., 115, 117,   0], shape=(14400,)),\n",
       "              'type': 'mesh3d',\n",
       "              'uid': '6dbabdf0-9fbc-47e2-b01e-d40b32606add',\n",
       "              'x': array([1.5     , 1.497944, 1.495209, ..., 1.473506, 1.487033, 1.495209],\n",
       "                         shape=(7200,)),\n",
       "              'y': array([ 0.      ,  0.      ,  0.052264, ..., -0.154509, -0.103956, -0.052264],\n",
       "                         shape=(7200,)),\n",
       "              'z': array([ 0.      , -0.078504, -0.07836 , ...,  0.077223,  0.077932,  0.07836 ],\n",
       "                         shape=(7200,))},\n",
       "             {'hoverinfo': 'none',\n",
       "              'line': {'color': 'rgb(125,0,0)', 'width': 1},\n",
       "              'mode': 'lines',\n",
       "              'type': 'scatter3d',\n",
       "              'uid': '8203f511-3b5b-48e5-97fa-480bd5f296b6',\n",
       "              'x': array([1.5, 1.497944, None, ..., 1.495209, 1.5, None],\n",
       "                         shape=(64800,), dtype=object),\n",
       "              'y': array([0.0, 0.0, None, ..., -0.052264, 0.0, None], shape=(64800,), dtype=object),\n",
       "              'z': array([0.0, -0.078504, None, ..., 0.07836, 0.0, None],\n",
       "                         shape=(64800,), dtype=object)}],\n",
       "    'layout': {'height': 800, 'scene': {'aspectmode': 'data'}, 'template': '...', 'width': 850}\n",
       "})"
      ]
     },
     "execution_count": 6,
     "metadata": {},
     "output_type": "execute_result"
    }
   ],
   "source": [
    "K2 = kmin * kmax\n",
    "print(\"Gaussian curvature range (product of principal curvatures): \", K2.min(), K2.max())\n",
    "print(\"Displaying Gaussian curvature (product of principal curvatures)\")\n",
    "jd.display(m, data=K2)"
   ]
  },
  {
   "cell_type": "markdown",
   "id": "3a87137f",
   "metadata": {},
   "source": [
    "## Mean Curvature\n",
    "\n",
    "Mean curvature is the average of the principal curvatures. Here we compute it using the mean curvature normal."
   ]
  },
  {
   "cell_type": "code",
   "execution_count": 7,
   "id": "66099173",
   "metadata": {},
   "outputs": [
    {
     "name": "stdout",
     "output_type": "stream",
     "text": [
      "Mean curvature range:  0.0008154560755776491 1.334088270344455\n",
      "Displaying Mean curvature\n"
     ]
    },
    {
     "data": {
      "application/vnd.jupyter.widget-view+json": {
       "model_id": "cdbdce4a3fed41908b9852af936acafd",
       "version_major": 2,
       "version_minor": 0
      },
      "text/plain": [
       "FigureWidget({\n",
       "    'data': [{'color': '#dddddd',\n",
       "              'contour': {'color': '#ff0000', 'show': True},\n",
       "              'flatshading': False,\n",
       "              'i': array([   0,    5,    7, ..., 7198, 7199, 7199], shape=(14400,)),\n",
       "              'intensity': array([1.33238524, 1.3328864 , 1.33182874, ..., 1.32214892, 1.32815879,\n",
       "                                  1.33182874], shape=(7200,)),\n",
       "              'j': array([   1,    3,    5, ..., 7197, 7198,  119], shape=(14400,)),\n",
       "              'k': array([  2,   2,   4, ..., 115, 117,   0], shape=(14400,)),\n",
       "              'type': 'mesh3d',\n",
       "              'uid': '30a300b0-05c4-45ad-a262-0fd41061bbf9',\n",
       "              'x': array([1.5     , 1.497944, 1.495209, ..., 1.473506, 1.487033, 1.495209],\n",
       "                         shape=(7200,)),\n",
       "              'y': array([ 0.      ,  0.      ,  0.052264, ..., -0.154509, -0.103956, -0.052264],\n",
       "                         shape=(7200,)),\n",
       "              'z': array([ 0.      , -0.078504, -0.07836 , ...,  0.077223,  0.077932,  0.07836 ],\n",
       "                         shape=(7200,))},\n",
       "             {'hoverinfo': 'none',\n",
       "              'line': {'color': 'rgb(125,0,0)', 'width': 1},\n",
       "              'mode': 'lines',\n",
       "              'type': 'scatter3d',\n",
       "              'uid': '7d8e6ffd-9124-4851-9071-a455ab9eb548',\n",
       "              'x': array([1.5, 1.497944, None, ..., 1.495209, 1.5, None],\n",
       "                         shape=(64800,), dtype=object),\n",
       "              'y': array([0.0, 0.0, None, ..., -0.052264, 0.0, None], shape=(64800,), dtype=object),\n",
       "              'z': array([0.0, -0.078504, None, ..., 0.07836, 0.0, None],\n",
       "                         shape=(64800,), dtype=object)}],\n",
       "    'layout': {'height': 800, 'scene': {'aspectmode': 'data'}, 'template': '...', 'width': 850}\n",
       "})"
      ]
     },
     "execution_count": 7,
     "metadata": {},
     "output_type": "execute_result"
    }
   ],
   "source": [
    "H = array([ m.mean_curvature(v) for v in m.vertices() ])\n",
    "print(\"Mean curvature range: \", H.min(), H.max())\n",
    "print(\"Displaying Mean curvature\")\n",
    "jd.display(m, data=H)"
   ]
  },
  {
   "cell_type": "code",
   "execution_count": 8,
   "id": "0f0f00da",
   "metadata": {},
   "outputs": [
    {
     "name": "stdout",
     "output_type": "stream",
     "text": [
      "Mean curvature range (average of principal curvatures):  -0.37019308333149414 1.3376183411487343\n",
      "Displaying Mean curvature (average of principal curvatures)\n"
     ]
    },
    {
     "data": {
      "application/vnd.jupyter.widget-view+json": {
       "model_id": "55d30c8419b646309d00904191755efb",
       "version_major": 2,
       "version_minor": 0
      },
      "text/plain": [
       "FigureWidget({\n",
       "    'data': [{'color': '#dddddd',\n",
       "              'contour': {'color': '#ff0000', 'show': True},\n",
       "              'flatshading': False,\n",
       "              'i': array([   0,    5,    7, ..., 7198, 7199, 7199], shape=(14400,)),\n",
       "              'intensity': array([1.33700951, 1.33675502, 1.33565538, ..., 1.32499124, 1.33114968,\n",
       "                                  1.33565501], shape=(7200,)),\n",
       "              'j': array([   1,    3,    5, ..., 7197, 7198,  119], shape=(14400,)),\n",
       "              'k': array([  2,   2,   4, ..., 115, 117,   0], shape=(14400,)),\n",
       "              'type': 'mesh3d',\n",
       "              'uid': 'ec2a8714-01b0-49c5-a4a1-50c1c7d49329',\n",
       "              'x': array([1.5     , 1.497944, 1.495209, ..., 1.473506, 1.487033, 1.495209],\n",
       "                         shape=(7200,)),\n",
       "              'y': array([ 0.      ,  0.      ,  0.052264, ..., -0.154509, -0.103956, -0.052264],\n",
       "                         shape=(7200,)),\n",
       "              'z': array([ 0.      , -0.078504, -0.07836 , ...,  0.077223,  0.077932,  0.07836 ],\n",
       "                         shape=(7200,))},\n",
       "             {'hoverinfo': 'none',\n",
       "              'line': {'color': 'rgb(125,0,0)', 'width': 1},\n",
       "              'mode': 'lines',\n",
       "              'type': 'scatter3d',\n",
       "              'uid': '05289f01-e606-423e-9993-35c4eca3f3cb',\n",
       "              'x': array([1.5, 1.497944, None, ..., 1.495209, 1.5, None],\n",
       "                         shape=(64800,), dtype=object),\n",
       "              'y': array([0.0, 0.0, None, ..., -0.052264, 0.0, None], shape=(64800,), dtype=object),\n",
       "              'z': array([0.0, -0.078504, None, ..., 0.07836, 0.0, None],\n",
       "                         shape=(64800,), dtype=object)}],\n",
       "    'layout': {'height': 800, 'scene': {'aspectmode': 'data'}, 'template': '...', 'width': 850}\n",
       "})"
      ]
     },
     "execution_count": 8,
     "metadata": {},
     "output_type": "execute_result"
    }
   ],
   "source": [
    "H2 = (kmin + kmax) / 2\n",
    "print(\"Mean curvature range (average of principal curvatures): \", H2.min(), H2.max())\n",
    "print(\"Displaying Mean curvature (average of principal curvatures)\")\n",
    "jd.display(m, data=H2)"
   ]
  }
 ],
 "metadata": {
  "kernelspec": {
   "display_name": "Python 3 (ipykernel)",
   "language": "python",
   "name": "python3"
  },
  "language_info": {
   "codemirror_mode": {
    "name": "ipython",
    "version": 3
   },
   "file_extension": ".py",
   "mimetype": "text/x-python",
   "name": "python",
   "nbconvert_exporter": "python",
   "pygments_lexer": "ipython3",
   "version": "3.13.4"
  }
 },
 "nbformat": 4,
 "nbformat_minor": 5
}
