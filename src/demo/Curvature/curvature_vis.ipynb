{
 "cells": [
  {
   "cell_type": "markdown",
   "id": "1a130a08",
   "metadata": {},
   "source": [
    "# Curvature Visualization\n",
    "\n",
    "This notebook demonstrates various curvature computations and visualizations on 3D meshes using PyGEL3D.\n",
    "\n",
    "We'll explore:\n",
    "- Principal curvatures (minimum and maximum)\n",
    "- Gaussian curvature\n",
    "- Mean curvature"
   ]
  },
  {
   "cell_type": "markdown",
   "id": "5d91c7ac",
   "metadata": {},
   "source": [
    "## Import Libraries and Setup"
   ]
  },
  {
   "cell_type": "code",
   "execution_count": null,
   "id": "439d7ce2",
   "metadata": {},
   "outputs": [],
   "source": [
    "from pygel3d import hmesh, jupyter_display as jd\n",
    "from numpy import array\n",
    "fn = \"../../../data/Solids/torus.obj\"\n",
    "m = hmesh.load(fn)\n",
    "hmesh.triangulate(m)\n",
    "jd.display(m)"
   ]
  },
  {
   "cell_type": "markdown",
   "id": "760e3f33",
   "metadata": {},
   "source": [
    "## Compute Principal Curvatures\n",
    "\n",
    "Principal curvatures are the maximum and minimum curvatures at each point on the surface. We compute the principal curvatures by fitting a second order surface to the vertices in the 1-ring of a given vertex."
   ]
  },
  {
   "cell_type": "code",
   "execution_count": null,
   "id": "2d2e9383",
   "metadata": {},
   "outputs": [],
   "source": [
    "pc = [ m.principal_curvatures(v) for v in m.vertices() ]\n",
    "kmin = array([ pc[v][0] for v in m.vertices()])\n",
    "kmax = array([ pc[v][1] for v in m.vertices()])\n",
    "print(\"min curvature range: \", kmin.min(), kmin.max())\n",
    "print(\"max curvature range: \", kmax.min(), kmax.max())"
   ]
  },
  {
   "cell_type": "markdown",
   "id": "56f21cfd",
   "metadata": {},
   "source": [
    "## Visualize Principal Curvatures"
   ]
  },
  {
   "cell_type": "code",
   "execution_count": null,
   "id": "8c6ce997",
   "metadata": {},
   "outputs": [],
   "source": [
    "print(\"Displaying minimum principal curvature\")\n",
    "jd.display(m, data=kmin)"
   ]
  },
  {
   "cell_type": "code",
   "execution_count": null,
   "id": "9d72ce66",
   "metadata": {},
   "outputs": [],
   "source": [
    "print(\"Displaying maximum principal curvature\")\n",
    "jd.display(m, data=kmax)"
   ]
  },
  {
   "cell_type": "markdown",
   "id": "a271f747",
   "metadata": {},
   "source": [
    "## Gaussian Curvature\n",
    "\n",
    "Gaussian curvature is the product of the principal curvatures. First we compute it via the angle defect. This method can also be seen as using the Gauss-Bonnet theorem to compute the Gaussian curvature."
   ]
  },
  {
   "cell_type": "code",
   "execution_count": null,
   "id": "63e13854",
   "metadata": {},
   "outputs": [],
   "source": [
    "K = array([ m.gaussian_curvature(v) for v in m.vertices()])\n",
    "print(\"Gaussian curvature range: \", K.min(), K.max())\n",
    "print(\"Displaying Gaussian curvature\")\n",
    "jd.display(m, data=K)"
   ]
  },
  {
   "cell_type": "code",
   "execution_count": null,
   "id": "ef2424de",
   "metadata": {},
   "outputs": [],
   "source": [
    "K2 = kmin * kmax\n",
    "print(\"Gaussian curvature range (product of principal curvatures): \", K2.min(), K2.max())\n",
    "print(\"Displaying Gaussian curvature (product of principal curvatures)\")\n",
    "jd.display(m, data=K2)"
   ]
  },
  {
   "cell_type": "markdown",
   "id": "3a87137f",
   "metadata": {},
   "source": [
    "## Mean Curvature\n",
    "\n",
    "Mean curvature is the average of the principal curvatures. Here we compute it using the mean curvature normal."
   ]
  },
  {
   "cell_type": "code",
   "execution_count": null,
   "id": "66099173",
   "metadata": {},
   "outputs": [],
   "source": [
    "H = array([ m.mean_curvature(v) for v in m.vertices() ])\n",
    "print(\"Mean curvature range: \", H.min(), H.max())\n",
    "print(\"Displaying Mean curvature\")\n",
    "jd.display(m, data=H)"
   ]
  },
  {
   "cell_type": "code",
   "execution_count": null,
   "id": "0f0f00da",
   "metadata": {},
   "outputs": [],
   "source": [
    "H2 = (kmin + kmax) / 2\n",
    "print(\"Mean curvature range (average of principal curvatures): \", H2.min(), H2.max())\n",
    "print(\"Displaying Mean curvature (average of principal curvatures)\")\n",
    "jd.display(m, data=H2)"
   ]
  }
 ],
 "metadata": {
  "kernelspec": {
   "display_name": "Python 3 (ipykernel)",
   "language": "python",
   "name": "python3"
  },
  "language_info": {
   "codemirror_mode": {
    "name": "ipython",
    "version": 3
   },
   "file_extension": ".py",
   "mimetype": "text/x-python",
   "name": "python",
   "nbconvert_exporter": "python",
   "pygments_lexer": "ipython3",
   "version": "3.13.5"
  }
 },
 "nbformat": 4,
 "nbformat_minor": 5
}
